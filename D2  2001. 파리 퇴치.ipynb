{
 "cells": [
  {
   "cell_type": "code",
   "execution_count": 8,
   "id": "89d08f38",
   "metadata": {},
   "outputs": [
    {
     "name": "stdout",
     "output_type": "stream",
     "text": [
      "6\n"
     ]
    }
   ],
   "source": [
    "li=[[0,1],[2,3]]\n",
    "S=0\n",
    "for v in li[0:2]:\n",
    "    S+=sum(v[0:2])\n",
    "print(S)"
   ]
  },
  {
   "cell_type": "code",
   "execution_count": 16,
   "id": "1b2601d8",
   "metadata": {},
   "outputs": [
    {
     "name": "stdout",
     "output_type": "stream",
     "text": [
      "1\n",
      "3 2\n",
      "1 1 1\n",
      "2 2 2\n",
      "3 3 3\n",
      "#1 10\n"
     ]
    }
   ],
   "source": [
    "T=int(input())\n",
    "\n",
    "for test_case in range(1,T+1):\n",
    "    N,M=map(int,input().split())\n",
    "    arr=[]\n",
    "    li=[]\n",
    "    for _ in range(N):\n",
    "        arr.append(list(map(int,input().split())))\n",
    "    \n",
    "    for i in range(N-M+1):\n",
    "        for j in range(N-M+1):\n",
    "            S=0\n",
    "            for v in arr[i:i+M]:\n",
    "                S+=sum(v[j:j+M])\n",
    "            li.append(S)\n",
    "    maxNum=max(li)\n",
    "    print(f'#{test_case} {maxNum}')"
   ]
  }
 ],
 "metadata": {
  "kernelspec": {
   "display_name": "Python 3 (ipykernel)",
   "language": "python",
   "name": "python3"
  },
  "language_info": {
   "codemirror_mode": {
    "name": "ipython",
    "version": 3
   },
   "file_extension": ".py",
   "mimetype": "text/x-python",
   "name": "python",
   "nbconvert_exporter": "python",
   "pygments_lexer": "ipython3",
   "version": "3.9.7"
  }
 },
 "nbformat": 4,
 "nbformat_minor": 5
}
