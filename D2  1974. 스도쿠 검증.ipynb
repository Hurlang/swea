{
 "cells": [
  {
   "cell_type": "code",
   "execution_count": 46,
   "id": "7b5e61f7",
   "metadata": {},
   "outputs": [
    {
     "name": "stdout",
     "output_type": "stream",
     "text": [
      "1\n",
      "7 3 6 4 2 9 5 8 1\n",
      "5 8 9 1 6 7 3 2 4\n",
      "2 1 4 5 8 3 6 9 7\n",
      "8 4 7 9 3 6 1 5 2\n",
      "1 5 3 8 4 2 9 7 6\n",
      "9 6 2 7 5 1 8 4 3\n",
      "4 2 1 3 9 8 7 6 5\n",
      "3 9 5 6 7 4 2 1 8\n",
      "6 7 8 2 1 5 4 3 9\n",
      "[[7, 3, 6, 4, 2, 9, 5, 8, 1], [5, 8, 9, 1, 6, 7, 3, 2, 4], [2, 1, 4, 5, 8, 3, 6, 9, 7], [8, 4, 7, 9, 3, 6, 1, 5, 2], [1, 5, 3, 8, 4, 2, 9, 7, 6], [9, 6, 2, 7, 5, 1, 8, 4, 3], [4, 2, 1, 3, 9, 8, 7, 6, 5], [3, 9, 5, 6, 7, 4, 2, 1, 8], [6, 7, 8, 2, 1, 5, 4, 3, 9]]\n",
      "126\n",
      "45360\n",
      "362880\n",
      "72\n",
      "3024\n",
      "362880\n",
      "40\n",
      "960\n",
      "362880\n",
      "224\n",
      "3360\n",
      "362880\n",
      "162\n",
      "10368\n",
      "362880\n",
      "10\n",
      "3780\n",
      "362880\n",
      "8\n",
      "1080\n",
      "362880\n",
      "216\n",
      "36288\n",
      "362880\n",
      "210\n",
      "3360\n",
      "362880\n",
      "#1 1\n"
     ]
    }
   ],
   "source": [
    "def change(arr):\n",
    "    arr=list(zip(*arr))\n",
    "    return arr\n",
    "\n",
    "def multiply(arr):\n",
    "    ans = 1\n",
    "    for n in arr:\n",
    "        if n == 0:\n",
    "            return 0\n",
    "        ans*=n\n",
    "    return ans\n",
    "\n",
    "T=int(input())\n",
    "for test_case in range(1,T+1):\n",
    "    arr=[]\n",
    "    flag=True\n",
    "    ans=1\n",
    "    for _ in range(9):\n",
    "        arr.append(list(map(int,input().split())))\n",
    "        \n",
    "    for row in arr:\n",
    "        if sum(row[::])!=45:\n",
    "            flag=False\n",
    "        \n",
    "    \n",
    "    arr90=change(arr)    \n",
    "    for col in arr90:\n",
    "        if sum(col[::])!=45:\n",
    "            flag=False\n",
    "            \n",
    "    for i in range(3):\n",
    "        for j in range(3):\n",
    "            mul=1\n",
    "            for row in arr[i*3:i*3+3]:\n",
    "                mul*=multiply(row[j*3:j*3+3])\n",
    "        if mul!=362880:\n",
    "            flag=False\n",
    "            break\n",
    "    \n",
    "    \n",
    "    if flag==False:\n",
    "        ans=0\n",
    "    print(f'#{test_case} {ans}')\n",
    "    "
   ]
  },
  {
   "cell_type": "code",
   "execution_count": 32,
   "id": "7ba5b6f9",
   "metadata": {},
   "outputs": [
    {
     "name": "stdout",
     "output_type": "stream",
     "text": [
      "[(1, 4, 7), (2, 5, 8), (1, 6, 9)]\n",
      "2\n",
      "[1, 2, 1] [4, 5, 6] [7, 8, 9]\n"
     ]
    }
   ],
   "source": [
    "def change(arr):\n",
    "    arr=list(zip(*arr))\n",
    "    return arr\n",
    "\n",
    "li=[[1,2,1],[4,5,6],[7,8,9]]\n",
    "print(change(li))\n",
    "print(li[0].count(1))\n",
    "print(*li)"
   ]
  },
  {
   "cell_type": "code",
   "execution_count": 13,
   "id": "6bce86a2",
   "metadata": {},
   "outputs": [
    {
     "data": {
      "text/plain": [
       "45"
      ]
     },
     "execution_count": 13,
     "metadata": {},
     "output_type": "execute_result"
    }
   ],
   "source": [
    "sum([1,2,3,4,5,6,7,8,9])\n"
   ]
  },
  {
   "cell_type": "code",
   "execution_count": 43,
   "id": "e46fb868",
   "metadata": {},
   "outputs": [
    {
     "name": "stdout",
     "output_type": "stream",
     "text": [
      "4\n"
     ]
    }
   ],
   "source": [
    "def multiply(arr):\n",
    "    ans = 1\n",
    "    for n in arr:\n",
    "        if n == 0:\n",
    "            return 0\n",
    "        ans*=n\n",
    "    return ans\n",
    "\n",
    "li=[2,2,2]\n",
    "\n",
    "mul=1\n",
    "mul*=multiply(li[0:2])\n",
    "print(mul)"
   ]
  }
 ],
 "metadata": {
  "kernelspec": {
   "display_name": "Python 3 (ipykernel)",
   "language": "python",
   "name": "python3"
  },
  "language_info": {
   "codemirror_mode": {
    "name": "ipython",
    "version": 3
   },
   "file_extension": ".py",
   "mimetype": "text/x-python",
   "name": "python",
   "nbconvert_exporter": "python",
   "pygments_lexer": "ipython3",
   "version": "3.9.7"
  }
 },
 "nbformat": 4,
 "nbformat_minor": 5
}
