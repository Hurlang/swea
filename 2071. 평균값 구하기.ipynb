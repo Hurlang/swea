{
 "cells": [
  {
   "cell_type": "code",
   "execution_count": null,
   "id": "303b0c2b",
   "metadata": {},
   "outputs": [
    {
     "name": "stdout",
     "output_type": "stream",
     "text": [
      "3\n",
      "3 17 1 39 8 41 2 32 99 2\n",
      "#1 24\n"
     ]
    }
   ],
   "source": [
    "T=int(input())\n",
    "for test_case in range(1,T+1):\n",
    "    li=list(map(int,input().split(' ')))\n",
    "    avg=int(round(sum(li)/len(li),0))\n",
    "    print(f'#{test_case} {avg}')"
   ]
  }
 ],
 "metadata": {
  "kernelspec": {
   "display_name": "Python 3 (ipykernel)",
   "language": "python",
   "name": "python3"
  },
  "language_info": {
   "codemirror_mode": {
    "name": "ipython",
    "version": 3
   },
   "file_extension": ".py",
   "mimetype": "text/x-python",
   "name": "python",
   "nbconvert_exporter": "python",
   "pygments_lexer": "ipython3",
   "version": "3.9.7"
  }
 },
 "nbformat": 4,
 "nbformat_minor": 5
}
