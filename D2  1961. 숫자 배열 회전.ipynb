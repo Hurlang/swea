{
 "cells": [
  {
   "cell_type": "code",
   "execution_count": 33,
   "id": "a50c3185",
   "metadata": {},
   "outputs": [
    {
     "name": "stdout",
     "output_type": "stream",
     "text": [
      "1\n",
      "3\n",
      "1 2 3\n",
      "4 5 6\n",
      "7 8 9\n",
      "#1\n",
      "741 987 369\n",
      "852 654 258\n",
      "963 321 147\n"
     ]
    }
   ],
   "source": [
    "def change(arr):\n",
    "    for i in range(len(arr)):\n",
    "        arr[i]=arr[i][::-1]\n",
    "    return arr\n",
    "\n",
    "T=int(input())\n",
    "for test_case in range(1,T+1):\n",
    "    N=int(input())\n",
    "    arr=[]\n",
    "    for _ in range(N):\n",
    "        arr.append(list(map(int,input().split())))\n",
    "    arr90=change(list(zip(*arr)))\n",
    "    arr180=change(list(zip(*arr90)))\n",
    "    arr270=change(list(zip(*arr180)))\n",
    "    print(f'#{test_case}')\n",
    "    for __ in range(N):\n",
    "        print(''.join(map(str,arr90[__])),''.join(map(str,arr180[__])),''.join(map(str,arr270[__])))\n"
   ]
  },
  {
   "cell_type": "code",
   "execution_count": 25,
   "id": "997c0a91",
   "metadata": {},
   "outputs": [
    {
     "name": "stdout",
     "output_type": "stream",
     "text": [
      "[(1, 4, 7), (2, 5, 8), (3, 6, 9)]\n",
      "[[3, 2, 1], [4, 5, 6], [7, 8, 9]]\n"
     ]
    }
   ],
   "source": [
    "li=[[1,2,3],[4,5,6],[7,8,9]]\n",
    "print(list(zip(*li)))\n",
    "lis=''.join(map(str,li[0]))\n",
    "li[0]=li[0][::-1]\n",
    "print(li)"
   ]
  },
  {
   "cell_type": "code",
   "execution_count": null,
   "id": "aee87d51",
   "metadata": {},
   "outputs": [],
   "source": []
  }
 ],
 "metadata": {
  "kernelspec": {
   "display_name": "Python 3 (ipykernel)",
   "language": "python",
   "name": "python3"
  },
  "language_info": {
   "codemirror_mode": {
    "name": "ipython",
    "version": 3
   },
   "file_extension": ".py",
   "mimetype": "text/x-python",
   "name": "python",
   "nbconvert_exporter": "python",
   "pygments_lexer": "ipython3",
   "version": "3.9.7"
  }
 },
 "nbformat": 4,
 "nbformat_minor": 5
}
