{
 "cells": [
  {
   "cell_type": "code",
   "execution_count": 6,
   "id": "a950d711",
   "metadata": {},
   "outputs": [
    {
     "name": "stdout",
     "output_type": "stream",
     "text": [
      "1\n",
      "#1\n",
      "3\n",
      "A 10\n",
      "B 7\n",
      "C 5\n",
      "AAAAAAAAAA\n",
      "BBBBBBBCCC\n",
      "CC\n"
     ]
    }
   ],
   "source": [
    "T=int(input())\n",
    "for i in range(T):\n",
    "    \n",
    "    S=''\n",
    "    print('#'+str(i+1))\n",
    "    N=int(input())\n",
    "    for j in range(N):\n",
    "        Ci,Ki=input().split()\n",
    "        S+=Ci*int(Ki)\n",
    "    while S!='':\n",
    "        print(S[:10])\n",
    "        S=S[10:]"
   ]
  }
 ],
 "metadata": {
  "kernelspec": {
   "display_name": "Python 3 (ipykernel)",
   "language": "python",
   "name": "python3"
  },
  "language_info": {
   "codemirror_mode": {
    "name": "ipython",
    "version": 3
   },
   "file_extension": ".py",
   "mimetype": "text/x-python",
   "name": "python",
   "nbconvert_exporter": "python",
   "pygments_lexer": "ipython3",
   "version": "3.9.7"
  }
 },
 "nbformat": 4,
 "nbformat_minor": 5
}
