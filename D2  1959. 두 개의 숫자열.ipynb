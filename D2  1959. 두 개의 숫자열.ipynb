{
 "cells": [
  {
   "cell_type": "code",
   "execution_count": 3,
   "id": "bb9c85b9",
   "metadata": {},
   "outputs": [
    {
     "name": "stdout",
     "output_type": "stream",
     "text": [
      "1\n",
      "3 5\n",
      "1 5 3\n",
      "3 6 -7 5 4\n",
      "#1 30\n"
     ]
    }
   ],
   "source": [
    "T=int(input())\n",
    "for i in range(T):\n",
    "    N,M=map(int,input().split(' '))\n",
    "    Ai=list(map(int,input().split(' ')))\n",
    "    Bi=list(map(int,input().split(' ')))\n",
    "    \n",
    "    if N>M:\n",
    "        Ai,Bi=Bi,Ai\n",
    "        N,M=M,N\n",
    "    \n",
    "    n=M-N\n",
    "    li=[]\n",
    "    \n",
    "    for j in range(n+1):\n",
    "        S=0\n",
    "        for k in range(len(Ai)):\n",
    "            S+=Ai[k]*Bi[k+j]\n",
    "        li.append(S)\n",
    "    print('#'+str(i+1),max(li))\n",
    "\n",
    "    \n",
    "'''\n",
    "에러사항\n",
    "2번째 줄에 N,M 이 주어지는지 몰랐었다.\n",
    "'''"
   ]
  },
  {
   "cell_type": "code",
   "execution_count": 1,
   "id": "2464841c",
   "metadata": {},
   "outputs": [
    {
     "name": "stdout",
     "output_type": "stream",
     "text": [
      "1\n"
     ]
    }
   ],
   "source": [
    "li=[1]\n",
    "print(max(li))"
   ]
  }
 ],
 "metadata": {
  "kernelspec": {
   "display_name": "Python 3 (ipykernel)",
   "language": "python",
   "name": "python3"
  },
  "language_info": {
   "codemirror_mode": {
    "name": "ipython",
    "version": 3
   },
   "file_extension": ".py",
   "mimetype": "text/x-python",
   "name": "python",
   "nbconvert_exporter": "python",
   "pygments_lexer": "ipython3",
   "version": "3.9.7"
  }
 },
 "nbformat": 4,
 "nbformat_minor": 5
}
