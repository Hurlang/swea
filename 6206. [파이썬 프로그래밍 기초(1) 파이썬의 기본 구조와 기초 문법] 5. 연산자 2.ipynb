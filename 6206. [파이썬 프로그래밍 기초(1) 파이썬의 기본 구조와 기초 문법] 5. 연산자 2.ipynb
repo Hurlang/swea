{
 "cells": [
  {
   "cell_type": "code",
   "execution_count": 4,
   "id": "a5812535",
   "metadata": {},
   "outputs": [
    {
     "name": "stdout",
     "output_type": "stream",
     "text": [
      "90\n",
      "90.00 kg =>  198.41 lb\n"
     ]
    }
   ],
   "source": [
    "kg=int(input())\n",
    "print('{0:.2f} kg =>  {1:.2f} lb'.format(kg,kg*2.2046))"
   ]
  }
 ],
 "metadata": {
  "kernelspec": {
   "display_name": "Python 3 (ipykernel)",
   "language": "python",
   "name": "python3"
  },
  "language_info": {
   "codemirror_mode": {
    "name": "ipython",
    "version": 3
   },
   "file_extension": ".py",
   "mimetype": "text/x-python",
   "name": "python",
   "nbconvert_exporter": "python",
   "pygments_lexer": "ipython3",
   "version": "3.9.7"
  }
 },
 "nbformat": 4,
 "nbformat_minor": 5
}
