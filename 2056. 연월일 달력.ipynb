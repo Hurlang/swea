{
 "cells": [
  {
   "cell_type": "code",
   "execution_count": 14,
   "id": "0d3fb0bd",
   "metadata": {},
   "outputs": [
    {
     "name": "stdout",
     "output_type": "stream",
     "text": [
      "5\n",
      "20150002\n",
      "#1 -1\n",
      "20140230\n",
      "#2 -1\n",
      "01010101\n",
      "#3 0101/01/01\n",
      "11111111\n",
      "#4 1111/11/11\n",
      "22220228\n",
      "#5 2222/02/28\n"
     ]
    }
   ],
   "source": [
    "T=int(input())\n",
    "Cal={'01':31,'02':28,'03':31,'04':30,'05':31,'06':30,'07':31,'08':31,'09':30,'10':31,'11':30,'12':31}\n",
    "for test_case in range(1,T+1):\n",
    "    S=input()\n",
    "    ans=-1\n",
    "    if 1<=int(S[4:6])<=12:\n",
    "        if 0<int(S[-2::])<=Cal[S[4:6]]:\n",
    "            ans=S[:4]+'/'+S[4:6]+'/'+S[-2::]\n",
    "    print(f'#{test_case} {ans}')"
   ]
  },
  {
   "cell_type": "code",
   "execution_count": 9,
   "id": "7993b418",
   "metadata": {},
   "outputs": [
    {
     "name": "stdout",
     "output_type": "stream",
     "text": [
      "34\n"
     ]
    }
   ],
   "source": [
    "a='1234'\n",
    "print(a[-2::])"
   ]
  }
 ],
 "metadata": {
  "kernelspec": {
   "display_name": "Python 3 (ipykernel)",
   "language": "python",
   "name": "python3"
  },
  "language_info": {
   "codemirror_mode": {
    "name": "ipython",
    "version": 3
   },
   "file_extension": ".py",
   "mimetype": "text/x-python",
   "name": "python",
   "nbconvert_exporter": "python",
   "pygments_lexer": "ipython3",
   "version": "3.9.7"
  }
 },
 "nbformat": 4,
 "nbformat_minor": 5
}
