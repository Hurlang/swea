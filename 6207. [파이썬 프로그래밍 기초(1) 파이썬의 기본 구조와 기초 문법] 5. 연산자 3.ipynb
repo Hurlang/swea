{
 "cells": [
  {
   "cell_type": "code",
   "execution_count": 1,
   "id": "53cf6b6d",
   "metadata": {},
   "outputs": [
    {
     "name": "stdout",
     "output_type": "stream",
     "text": [
      "28\n",
      "28.00 ℃ =>  82.40 ℉\n"
     ]
    }
   ],
   "source": [
    "C=int(input())\n",
    "F=32+1.8*C\n",
    "print('{0:.2f} ℃ =>  {1:.2f} ℉'.format(C,F))"
   ]
  }
 ],
 "metadata": {
  "kernelspec": {
   "display_name": "Python 3 (ipykernel)",
   "language": "python",
   "name": "python3"
  },
  "language_info": {
   "codemirror_mode": {
    "name": "ipython",
    "version": 3
   },
   "file_extension": ".py",
   "mimetype": "text/x-python",
   "name": "python",
   "nbconvert_exporter": "python",
   "pygments_lexer": "ipython3",
   "version": "3.9.7"
  }
 },
 "nbformat": 4,
 "nbformat_minor": 5
}
