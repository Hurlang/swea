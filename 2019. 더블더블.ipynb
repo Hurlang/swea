{
 "cells": [
  {
   "cell_type": "code",
   "execution_count": 1,
   "id": "a8e87dbc",
   "metadata": {},
   "outputs": [
    {
     "name": "stdout",
     "output_type": "stream",
     "text": [
      "8\n",
      "1 2 4 8 16 32 64 128 256\n"
     ]
    }
   ],
   "source": [
    "N=int(input())\n",
    "li=[]\n",
    "for i in range(0,N+1):\n",
    "    li.append(2**i)\n",
    "li=list(map(str,li))\n",
    "print(' '.join(li))"
   ]
  }
 ],
 "metadata": {
  "kernelspec": {
   "display_name": "Python 3 (ipykernel)",
   "language": "python",
   "name": "python3"
  },
  "language_info": {
   "codemirror_mode": {
    "name": "ipython",
    "version": 3
   },
   "file_extension": ".py",
   "mimetype": "text/x-python",
   "name": "python",
   "nbconvert_exporter": "python",
   "pygments_lexer": "ipython3",
   "version": "3.9.7"
  }
 },
 "nbformat": 4,
 "nbformat_minor": 5
}
