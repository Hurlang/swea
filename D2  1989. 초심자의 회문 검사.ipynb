{
 "cells": [
  {
   "cell_type": "code",
   "execution_count": 1,
   "id": "11a1a717",
   "metadata": {},
   "outputs": [
    {
     "name": "stdout",
     "output_type": "stream",
     "text": [
      "3\n",
      "level\n",
      "#1 1\n",
      "samsung\n",
      "#2 0\n",
      "eye\n",
      "#3 1\n"
     ]
    }
   ],
   "source": [
    "T=int(input())\n",
    "for i in range(T):\n",
    "    S=input()\n",
    "    if S==S[::-1]:\n",
    "        ans=1\n",
    "    else:\n",
    "        ans=0\n",
    "    print('#'+str(i+1),ans)"
   ]
  }
 ],
 "metadata": {
  "kernelspec": {
   "display_name": "Python 3 (ipykernel)",
   "language": "python",
   "name": "python3"
  },
  "language_info": {
   "codemirror_mode": {
    "name": "ipython",
    "version": 3
   },
   "file_extension": ".py",
   "mimetype": "text/x-python",
   "name": "python",
   "nbconvert_exporter": "python",
   "pygments_lexer": "ipython3",
   "version": "3.9.7"
  }
 },
 "nbformat": 4,
 "nbformat_minor": 5
}
