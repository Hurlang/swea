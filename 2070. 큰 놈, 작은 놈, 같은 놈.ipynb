{
 "cells": [
  {
   "cell_type": "code",
   "execution_count": 2,
   "id": "632bf120",
   "metadata": {},
   "outputs": [
    {
     "name": "stdout",
     "output_type": "stream",
     "text": [
      "3\n",
      "3 8\n",
      "#1 <\n",
      "7 7\n",
      "#2 =\n",
      "369 123\n",
      "#3 >\n"
     ]
    }
   ],
   "source": [
    "T=int(input())\n",
    "for test_case in range(1,T+1):\n",
    "    A,B=map(int,(input().split()))\n",
    "    symbol=''\n",
    "    if A>B:\n",
    "        symbol='>'\n",
    "    elif A==B:\n",
    "        symbol='='\n",
    "    else:\n",
    "        symbol='<'\n",
    "    print(f'#{test_case} {symbol}')"
   ]
  }
 ],
 "metadata": {
  "kernelspec": {
   "display_name": "Python 3 (ipykernel)",
   "language": "python",
   "name": "python3"
  },
  "language_info": {
   "codemirror_mode": {
    "name": "ipython",
    "version": 3
   },
   "file_extension": ".py",
   "mimetype": "text/x-python",
   "name": "python",
   "nbconvert_exporter": "python",
   "pygments_lexer": "ipython3",
   "version": "3.9.7"
  }
 },
 "nbformat": 4,
 "nbformat_minor": 5
}
