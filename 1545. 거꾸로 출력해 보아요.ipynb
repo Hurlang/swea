{
 "cells": [
  {
   "cell_type": "code",
   "execution_count": 1,
   "id": "9f579fde",
   "metadata": {},
   "outputs": [
    {
     "name": "stdout",
     "output_type": "stream",
     "text": [
      "8\n",
      "8 7 6 5 4 3 2 1 0\n"
     ]
    }
   ],
   "source": [
    "N=int(input())\n",
    "li=[]\n",
    "for i in range(N+1):\n",
    "    li.append(str(N-i))\n",
    "print(' '.join(li))"
   ]
  }
 ],
 "metadata": {
  "kernelspec": {
   "display_name": "Python 3 (ipykernel)",
   "language": "python",
   "name": "python3"
  },
  "language_info": {
   "codemirror_mode": {
    "name": "ipython",
    "version": 3
   },
   "file_extension": ".py",
   "mimetype": "text/x-python",
   "name": "python",
   "nbconvert_exporter": "python",
   "pygments_lexer": "ipython3",
   "version": "3.9.7"
  }
 },
 "nbformat": 4,
 "nbformat_minor": 5
}
