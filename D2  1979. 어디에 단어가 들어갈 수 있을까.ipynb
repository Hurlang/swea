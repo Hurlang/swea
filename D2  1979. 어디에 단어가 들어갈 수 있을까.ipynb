{
 "cells": [
  {
   "cell_type": "code",
   "execution_count": 1,
   "id": "031db28e",
   "metadata": {},
   "outputs": [
    {
     "ename": "SyntaxError",
     "evalue": "invalid syntax (Temp/ipykernel_19092/3610182439.py, line 3)",
     "output_type": "error",
     "traceback": [
      "\u001b[1;36m  File \u001b[1;32m\"C:\\Users\\iamse\\AppData\\Local\\Temp/ipykernel_19092/3610182439.py\"\u001b[1;36m, line \u001b[1;32m3\u001b[0m\n\u001b[1;33m    for i in\u001b[0m\n\u001b[1;37m             ^\u001b[0m\n\u001b[1;31mSyntaxError\u001b[0m\u001b[1;31m:\u001b[0m invalid syntax\n"
     ]
    }
   ],
   "source": [
    "#try1\n",
    "def rotate(li):\n",
    "    for i in \n",
    "        rli=list(zip())\n",
    "    \n",
    "\n",
    "T=int(input())\n",
    "for i in range(T):\n",
    "    N,K=map(int,input().split())\n",
    "    cnt=0\n",
    "    li=[]\n",
    "    li.append([0 for _ in range(N+2)])\n",
    "    for j in range(N):\n",
    "        line=list(map(int,'0'+input().replace(' ','')+'0'))\n",
    "        li.append(line)\n",
    "    li.append([0 for _ in range(N+2)])\n",
    "    "
   ]
  },
  {
   "cell_type": "code",
   "execution_count": 34,
   "id": "d20679c7",
   "metadata": {},
   "outputs": [
    {
     "name": "stdout",
     "output_type": "stream",
     "text": [
      "1\n",
      "5 3\n",
      "0 0 1 1 1\n",
      "1 1 1 1 0\n",
      "0 0 1 0 0\n",
      "0 1 1 1 1\n",
      "1 1 1 0 1\n",
      "[['0', '0', '0', '1', '1', '1', '0'], ['0', '1', '1', '1', '1', '0', '0'], ['0', '0', '0', '1', '0', '0', '0'], ['0', '0', '1', '1', '1', '1', '0'], ['0', '1', '1', '1', '0', '1', '0']]\n",
      "[['0', '0', '0', '0', '0', '0', '0'], ['0', '0', '1', '0', '0', '1', '0'], ['0', '0', '1', '0', '1', '1', '0'], ['0', '1', '1', '1', '1', '1', '0'], ['0', '1', '1', '0', '1', '0', '0'], ['0', '1', '0', '0', '1', '1', '0'], ['0', '0', '0', '0', '0', '0', '0']]\n",
      "#1 2\n"
     ]
    }
   ],
   "source": [
    "#try2\n",
    "def turn(arr):\n",
    "    arr=list(zip(*arr))\n",
    "    arr2=[]\n",
    "    for row in arr:\n",
    "        arr2.append(['0']+list(row)+['0'])\n",
    "        \n",
    "    return arr2\n",
    "\n",
    "T=int(input())\n",
    "for test_case in range(1,T+1):\n",
    "    N,K=map(int,input().split())\n",
    "    arr=[]\n",
    "    cnt=0\n",
    "    for i in range(N):\n",
    "        li=['0']+list(map(str,input().split()))+['0']\n",
    "        arr.append(li) \n",
    "    arr90=turn(arr)\n",
    "    \n",
    "    for row in arr:\n",
    "        for _ in range(N-K+1):\n",
    "            \n",
    "            cnt+=''.join(row[_:_+K+2]).count('0'+'1'*K+'0')\n",
    "        \n",
    "    for row in arr90:\n",
    "        for __ in range(N-K+1):\n",
    "            cnt+=''.join(row[__:__+K+2]).count('0'+'1'*K+'0')\n",
    "    \n",
    "    print(f'#{test_case} {cnt}')\n"
   ]
  },
  {
   "cell_type": "code",
   "execution_count": 22,
   "id": "0e05cfc4",
   "metadata": {},
   "outputs": [
    {
     "data": {
      "text/plain": [
       "1"
      ]
     },
     "execution_count": 22,
     "metadata": {},
     "output_type": "execute_result"
    }
   ],
   "source": [
    "a='0010100'\n",
    "a.count('010')"
   ]
  },
  {
   "cell_type": "code",
   "execution_count": 12,
   "id": "1e81c788",
   "metadata": {},
   "outputs": [
    {
     "name": "stdout",
     "output_type": "stream",
     "text": [
      "123\n"
     ]
    }
   ],
   "source": [
    "li=['1','2','3']\n",
    "print(''.join(li))"
   ]
  }
 ],
 "metadata": {
  "kernelspec": {
   "display_name": "Python 3 (ipykernel)",
   "language": "python",
   "name": "python3"
  },
  "language_info": {
   "codemirror_mode": {
    "name": "ipython",
    "version": 3
   },
   "file_extension": ".py",
   "mimetype": "text/x-python",
   "name": "python",
   "nbconvert_exporter": "python",
   "pygments_lexer": "ipython3",
   "version": "3.9.7"
  }
 },
 "nbformat": 4,
 "nbformat_minor": 5
}
